{
 "cells": [
  {
   "cell_type": "markdown",
   "metadata": {},
   "source": [
    "## 設定他"
   ]
  },
  {
   "cell_type": "code",
   "execution_count": 1,
   "metadata": {},
   "outputs": [],
   "source": [
    "def recommendation(idd):\n",
    "    \n",
    "    data = pd.read_csv(\"./sinyi_clean.csv\")\n",
    "    data1 = data[[\"size\", \"totlefloor\", \"floor\", \"year\", \"room\", \"hall\", \"bath\", \"unitprice\"]]\n",
    "    \n",
    "    #找出input的id的index\n",
    "    input_index = data[data['id'] == idd].index.item()\n",
    "\n",
    "    \n",
    "    ###做標準化\n",
    "    #建立MinMaxScaler物件\n",
    "    minmax = preprocessing.MinMaxScaler()\n",
    "    # 資料標準化\n",
    "    data_minmax = minmax.fit_transform(data1)\n",
    "    data_minmax_dataframe = pd.DataFrame(data_minmax, columns = [\"size\", \"totlefloor\", \"floor\", \"year\", \"room\", \"hall\", \"bath\", \"unitprice\"])\n",
    "    \n",
    "    \n",
    "    ###計算歐式距離\n",
    "    idd = []\n",
    "    houseLink = []\n",
    "    pictureurl = []\n",
    "    values = [] \n",
    "\n",
    "    for i in range(0, len(data_minmax_dataframe)):\n",
    "        if i is not input_index:\n",
    "            idd.append(data[\"id\"][i])\n",
    "            houseLink.append(data[\"houseLink\"][i])\n",
    "            pictureurl.append(data[\"pictureurl\"][i])\n",
    "            value = euclidean_distances(data_minmax_dataframe.values[input_index].reshape(1,-1), data_minmax_dataframe.values[i].reshape(1,-1))[0][0]\n",
    "            values.append(value)\n",
    "\n",
    "    column = ['id','houseLink', 'pictureurl', 'value']\n",
    "    df = pd.DataFrame(columns = column)\n",
    "\n",
    "    df['id'] = idd\n",
    "    df['houseLink'] = houseLink\n",
    "    df['pictureurl'] = pictureurl\n",
    "    df['value'] = values\n",
    "\n",
    "    \n",
    "    \n",
    "    ###計算前3名\n",
    "    id_output = df.nsmallest(3,'value')['id'].tolist()\n",
    "    houseLink_output = df.nsmallest(3,'value')['houseLink'].tolist()\n",
    "    pictureurl_output = df.nsmallest(3,'value')['pictureurl'].tolist()\n",
    "    value_output = df.nsmallest(3,'value')['value'].tolist()\n",
    "    \n",
    "    top_1_id = id_output[0]\n",
    "    top_1_houseLink = houseLink_output[0]\n",
    "    top_1_pictureurl = pictureurl_output[0]\n",
    "    top_1_value = value_output[0]\n",
    "    \n",
    "    top_2_id = id_output[1]\n",
    "    top_2_houseLink = houseLink_output[1]\n",
    "    top_2_pictureurl = pictureurl_output[1]\n",
    "    top_2_value = value_output[1]\n",
    "    \n",
    "    \n",
    "    top_3_id = id_output[2]\n",
    "    top_3_houseLink = houseLink_output[2]\n",
    "    top_3_pictureurl = pictureurl_output[2]\n",
    "    top_3_value = value_output[2]\n",
    "\n",
    "\n",
    "    return (top_1_id, top_1_houseLink, top_1_pictureurl, top_1_value, top_2_id, top_2_houseLink, top_2_pictureurl, top_2_value, top_3_id, top_3_houseLink, top_3_pictureurl, top_3_value)"
   ]
  },
  {
   "cell_type": "code",
   "execution_count": null,
   "metadata": {},
   "outputs": [],
   "source": []
  },
  {
   "cell_type": "code",
   "execution_count": null,
   "metadata": {},
   "outputs": [],
   "source": []
  },
  {
   "cell_type": "markdown",
   "metadata": {},
   "source": [
    "## 使用他"
   ]
  },
  {
   "cell_type": "code",
   "execution_count": 2,
   "metadata": {},
   "outputs": [],
   "source": [
    "import pandas as pd\n",
    "from sklearn import preprocessing\n",
    "from sklearn.metrics.pairwise import euclidean_distances\n",
    "\n",
    "##假設使用者選擇的房屋ID\n",
    "houseID = \"69040P\"\n",
    "result = recommendation(houseID)"
   ]
  },
  {
   "cell_type": "code",
   "execution_count": 3,
   "metadata": {},
   "outputs": [
    {
     "name": "stdout",
     "output_type": "stream",
     "text": [
      "60359D https://www.sinyi.com.tw/buy/house/60359D/?breadcrumb=list https://res.sinyi.com.tw/buy/60359D/smallimg/A.JPG 0.02373348955702612\n"
     ]
    }
   ],
   "source": [
    "##top1 id, houseLink, pictureurl, value\n",
    "print(result[0], result[1], result[2], result[3])"
   ]
  },
  {
   "cell_type": "code",
   "execution_count": 4,
   "metadata": {},
   "outputs": [
    {
     "name": "stdout",
     "output_type": "stream",
     "text": [
      "58465T https://www.sinyi.com.tw/buy/house/58465T/?breadcrumb=list https://res.sinyi.com.tw/buy/58465T/smallimg/A.JPG 0.025751532040235944\n"
     ]
    }
   ],
   "source": [
    "##top2 id, houseLink, pictureurl, value\n",
    "print(result[4], result[5], result[6], result[7])"
   ]
  },
  {
   "cell_type": "code",
   "execution_count": 5,
   "metadata": {},
   "outputs": [
    {
     "name": "stdout",
     "output_type": "stream",
     "text": [
      "23933F https://www.sinyi.com.tw/buy/house/23933F/?breadcrumb=list https://res.sinyi.com.tw/buy/23933F/smallimg/A.JPG 0.03631743892045678\n"
     ]
    }
   ],
   "source": [
    "##top3 id, houseLink, pictureurl, value\n",
    "print(result[8], result[9], result[10], result[11])"
   ]
  },
  {
   "cell_type": "code",
   "execution_count": null,
   "metadata": {},
   "outputs": [],
   "source": []
  }
 ],
 "metadata": {
  "kernelspec": {
   "display_name": "Python 3",
   "language": "python",
   "name": "python3"
  },
  "language_info": {
   "codemirror_mode": {
    "name": "ipython",
    "version": 3
   },
   "file_extension": ".py",
   "mimetype": "text/x-python",
   "name": "python",
   "nbconvert_exporter": "python",
   "pygments_lexer": "ipython3",
   "version": "3.8.5"
  }
 },
 "nbformat": 4,
 "nbformat_minor": 4
}
