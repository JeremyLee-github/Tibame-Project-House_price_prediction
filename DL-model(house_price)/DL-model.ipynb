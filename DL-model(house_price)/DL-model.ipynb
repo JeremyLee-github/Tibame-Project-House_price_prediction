{
 "cells": [
  {
   "cell_type": "code",
   "execution_count": 1,
   "metadata": {},
   "outputs": [],
   "source": [
    "import pandas as pd\n",
    "import numpy as np\n",
    "import tensorflow as tf\n",
    "import matplotlib as plt\n",
    "from sklearn import preprocessing\n",
    "from sklearn.model_selection import train_test_split\n",
    "from tensorflow.keras.models import Sequential\n",
    "from tensorflow.keras.layers import Input, Dense, Activation, Dropout\n",
    "from tensorflow.keras.optimizers import Adam\n",
    "tf.compat.v1.reset_default_graph()\n",
    "\n",
    "df = pd.read_csv('house_data313.csv')\n",
    "\n",
    "y = df['建物單價元/坪']\n",
    "X = df.drop(['建物單價元/坪'], axis=1)\n",
    "\n",
    "X = preprocessing.MinMaxScaler().fit_transform(X)\n",
    "\n",
    "X_train, X_test, y_train, y_test = train_test_split(X, y, test_size=0.3)\n",
    "\n",
    "X_train = np.array(X_train)\n",
    "X_test = np.array(X_test)\n",
    "y_train = np.array(y_train)\n",
    "y_test = np.array(y_test)\n",
    "\n"
   ]
  },
  {
   "cell_type": "code",
   "execution_count": 2,
   "metadata": {},
   "outputs": [
    {
     "name": "stdout",
     "output_type": "stream",
     "text": [
      "(50750, 48)\n",
      "(50750,)\n"
     ]
    }
   ],
   "source": [
    "print(X_train.shape)\n",
    "print(y_train.shape)"
   ]
  },
  {
   "cell_type": "code",
   "execution_count": 6,
   "metadata": {},
   "outputs": [],
   "source": [
    "model = Sequential()\n",
    "\n",
    "model.add(Dense(X_train.shape[1], activation='relu'))\n",
    "model.add(Dense(32, activation='relu'))\n",
    "# model.add(Dropout(0.2))\n",
    "\n",
    "model.add(Dense(64, activation='relu'))\n",
    "# model.add(Dropout(0.2))\n",
    "\n",
    "model.add(Dense(128, activation='relu'))\n",
    "# # model.add(Dropout(0.2))\n",
    "\n",
    "model.add(Dense(512, activation='relu'))\n",
    "# model.add(Dropout(0.1))\n",
    "model.add(Dense(512, activation='relu'))\n",
    "\n",
    "model.add(Dense(1024, activation='relu'))\n",
    "# model.add(Dropout(0.1))\n",
    "model.add(Dense(2048, activation='relu'))\n",
    "\n",
    "model.add(Dense(2048, activation='relu'))\n",
    "\n",
    "model.add(Dense(2048, activation='relu'))\n",
    "\n",
    "model.add(Dense(1024, activation='relu'))\n",
    "\n",
    "model.add(Dense(512, activation='relu'))\n",
    "\n",
    "model.add(Dense(128, activation='relu'))\n",
    "\n",
    "model.add(Dense(64, activation='relu'))\n",
    "\n",
    "model.add(Dense(1))\n",
    "\n",
    "model.compile(optimizer=Adam(0.00001), loss='mse')\n",
    "\n"
   ]
  },
  {
   "cell_type": "code",
   "execution_count": 7,
   "metadata": {},
   "outputs": [],
   "source": [
    "# model.summary()"
   ]
  },
  {
   "cell_type": "code",
   "execution_count": 8,
   "metadata": {
    "scrolled": true
   },
   "outputs": [
    {
     "name": "stdout",
     "output_type": "stream",
     "text": [
      "Epoch 1/100\n",
      "5075/5075 [==============================] - 269s 53ms/step - loss: 1.7218 - val_loss: 0.0898\n",
      "Epoch 2/100\n",
      "5075/5075 [==============================] - 251s 49ms/step - loss: 0.0862 - val_loss: 0.0834\n",
      "Epoch 3/100\n",
      "5075/5075 [==============================] - 286s 56ms/step - loss: 0.0773 - val_loss: 0.0901\n",
      "Epoch 4/100\n",
      "5075/5075 [==============================] - 322s 63ms/step - loss: 0.0742 - val_loss: 0.0719\n",
      "Epoch 5/100\n",
      "5075/5075 [==============================] - 229s 45ms/step - loss: 0.0718 - val_loss: 0.0715\n",
      "Epoch 6/100\n",
      "5075/5075 [==============================] - 285s 56ms/step - loss: 0.0691 - val_loss: 0.0798\n",
      "Epoch 7/100\n",
      "5075/5075 [==============================] - 299s 59ms/step - loss: 0.0677 - val_loss: 0.0705\n",
      "Epoch 8/100\n",
      "5075/5075 [==============================] - 255s 50ms/step - loss: 0.0678 - val_loss: 0.0698\n",
      "Epoch 9/100\n",
      "5075/5075 [==============================] - 268s 53ms/step - loss: 0.0655 - val_loss: 0.0679\n",
      "Epoch 10/100\n",
      "5075/5075 [==============================] - 261s 51ms/step - loss: 0.0651 - val_loss: 0.0688\n",
      "Epoch 11/100\n",
      "5075/5075 [==============================] - 279s 55ms/step - loss: 0.0648 - val_loss: 0.0693\n",
      "Epoch 12/100\n",
      "5075/5075 [==============================] - 272s 54ms/step - loss: 0.0651 - val_loss: 0.0674\n",
      "Epoch 13/100\n",
      "5075/5075 [==============================] - 284s 56ms/step - loss: 0.0638 - val_loss: 0.0667\n",
      "Epoch 14/100\n",
      "5075/5075 [==============================] - 301s 59ms/step - loss: 0.0626 - val_loss: 0.0694\n",
      "Epoch 15/100\n",
      "5075/5075 [==============================] - 272s 54ms/step - loss: 0.0627 - val_loss: 0.0666\n",
      "Epoch 16/100\n",
      "5075/5075 [==============================] - 293s 58ms/step - loss: 0.0620 - val_loss: 0.0668\n",
      "Epoch 17/100\n",
      "5075/5075 [==============================] - 239s 47ms/step - loss: 0.0612 - val_loss: 0.0666\n",
      "Epoch 18/100\n",
      "5075/5075 [==============================] - 266s 52ms/step - loss: 0.0601 - val_loss: 0.0701\n",
      "Epoch 19/100\n",
      "5075/5075 [==============================] - 309s 61ms/step - loss: 0.0597 - val_loss: 0.0662\n",
      "Epoch 20/100\n",
      "5075/5075 [==============================] - 282s 56ms/step - loss: 0.0606 - val_loss: 0.0660\n",
      "Epoch 21/100\n",
      "5075/5075 [==============================] - 251s 50ms/step - loss: 0.0591 - val_loss: 0.0664\n",
      "Epoch 22/100\n",
      "5075/5075 [==============================] - 287s 57ms/step - loss: 0.0602 - val_loss: 0.0667\n",
      "Epoch 23/100\n",
      "5075/5075 [==============================] - 291s 57ms/step - loss: 0.0591 - val_loss: 0.0687\n",
      "Epoch 24/100\n",
      "5075/5075 [==============================] - 369s 73ms/step - loss: 0.0586 - val_loss: 0.0810\n",
      "Epoch 25/100\n",
      "5075/5075 [==============================] - 348s 69ms/step - loss: 0.0578 - val_loss: 0.0697\n",
      "Epoch 26/100\n",
      "5075/5075 [==============================] - 333s 66ms/step - loss: 0.0564 - val_loss: 0.0670\n",
      "Epoch 27/100\n",
      "5075/5075 [==============================] - 379s 75ms/step - loss: 0.0574 - val_loss: 0.0666\n",
      "Epoch 28/100\n",
      "5075/5075 [==============================] - 321s 63ms/step - loss: 0.0577 - val_loss: 0.0900\n",
      "Epoch 29/100\n",
      "5075/5075 [==============================] - 280s 55ms/step - loss: 0.0571 - val_loss: 0.0663\n",
      "Epoch 30/100\n",
      "5075/5075 [==============================] - 220s 43ms/step - loss: 0.0568 - val_loss: 0.0652\n",
      "Epoch 31/100\n",
      "5075/5075 [==============================] - 254s 50ms/step - loss: 0.0578 - val_loss: 0.0722\n",
      "Epoch 32/100\n",
      "5075/5075 [==============================] - 267s 53ms/step - loss: 0.0555 - val_loss: 0.0665\n",
      "Epoch 33/100\n",
      "5075/5075 [==============================] - 235s 46ms/step - loss: 0.0549 - val_loss: 0.0745\n",
      "Epoch 34/100\n",
      "5075/5075 [==============================] - 251s 49ms/step - loss: 0.0570 - val_loss: 0.0651\n",
      "Epoch 35/100\n",
      "5075/5075 [==============================] - 246s 49ms/step - loss: 0.0552 - val_loss: 0.0654\n",
      "Epoch 36/100\n",
      "5075/5075 [==============================] - 275s 54ms/step - loss: 0.0550 - val_loss: 0.0674\n",
      "Epoch 37/100\n",
      "5075/5075 [==============================] - 275s 54ms/step - loss: 0.0550 - val_loss: 0.0646\n",
      "Epoch 38/100\n",
      "5075/5075 [==============================] - 254s 50ms/step - loss: 0.0549 - val_loss: 0.0652\n",
      "Epoch 39/100\n",
      "5075/5075 [==============================] - 239s 47ms/step - loss: 0.0543 - val_loss: 0.0663\n",
      "Epoch 40/100\n",
      "5075/5075 [==============================] - 271s 53ms/step - loss: 0.0544 - val_loss: 0.0662\n",
      "Epoch 41/100\n",
      "5075/5075 [==============================] - 301s 59ms/step - loss: 0.0533 - val_loss: 0.0652\n",
      "Epoch 42/100\n",
      "5075/5075 [==============================] - 225s 44ms/step - loss: 0.0525 - val_loss: 0.0664\n",
      "Epoch 43/100\n",
      "5075/5075 [==============================] - 238s 47ms/step - loss: 0.0531 - val_loss: 0.0674\n",
      "Epoch 44/100\n",
      "5075/5075 [==============================] - 262s 52ms/step - loss: 0.0532 - val_loss: 0.0670\n",
      "Epoch 45/100\n",
      "5075/5075 [==============================] - 206s 41ms/step - loss: 0.0527 - val_loss: 0.0674\n",
      "Epoch 46/100\n",
      "5075/5075 [==============================] - 236s 46ms/step - loss: 0.0528 - val_loss: 0.0655\n",
      "Epoch 47/100\n",
      "5075/5075 [==============================] - 269s 53ms/step - loss: 0.0513 - val_loss: 0.0700\n",
      "Epoch 48/100\n",
      "5075/5075 [==============================] - 239s 47ms/step - loss: 0.0516 - val_loss: 0.0675\n",
      "Epoch 49/100\n",
      "5075/5075 [==============================] - 224s 44ms/step - loss: 0.0517 - val_loss: 0.0656\n",
      "Epoch 50/100\n",
      "5075/5075 [==============================] - 288s 57ms/step - loss: 0.0507 - val_loss: 0.0654\n",
      "Epoch 51/100\n",
      "2791/5075 [===============>..............] - ETA: 1:20 - loss: 0.0504"
     ]
    },
    {
     "ename": "KeyboardInterrupt",
     "evalue": "",
     "output_type": "error",
     "traceback": [
      "\u001b[1;31m---------------------------------------------------------------------------\u001b[0m",
      "\u001b[1;31mKeyboardInterrupt\u001b[0m                         Traceback (most recent call last)",
      "\u001b[1;32m<ipython-input-8-6324cb6ef944>\u001b[0m in \u001b[0;36m<module>\u001b[1;34m\u001b[0m\n\u001b[1;32m----> 1\u001b[1;33m r = model.fit(X_train, y_train,\n\u001b[0m\u001b[0;32m      2\u001b[0m               \u001b[0mvalidation_data\u001b[0m\u001b[1;33m=\u001b[0m\u001b[1;33m(\u001b[0m\u001b[0mX_test\u001b[0m\u001b[1;33m,\u001b[0m\u001b[0my_test\u001b[0m\u001b[1;33m)\u001b[0m\u001b[1;33m,\u001b[0m\u001b[1;33m\u001b[0m\u001b[1;33m\u001b[0m\u001b[0m\n\u001b[0;32m      3\u001b[0m               \u001b[0mbatch_size\u001b[0m\u001b[1;33m=\u001b[0m\u001b[1;36m10\u001b[0m\u001b[1;33m,\u001b[0m\u001b[1;33m\u001b[0m\u001b[1;33m\u001b[0m\u001b[0m\n\u001b[0;32m      4\u001b[0m               epochs=100)\n",
      "\u001b[1;32m~\\anaconda3\\envs\\Python_course\\lib\\site-packages\\tensorflow\\python\\keras\\engine\\training.py\u001b[0m in \u001b[0;36mfit\u001b[1;34m(self, x, y, batch_size, epochs, verbose, callbacks, validation_split, validation_data, shuffle, class_weight, sample_weight, initial_epoch, steps_per_epoch, validation_steps, validation_batch_size, validation_freq, max_queue_size, workers, use_multiprocessing)\u001b[0m\n\u001b[0;32m   1098\u001b[0m                 _r=1):\n\u001b[0;32m   1099\u001b[0m               \u001b[0mcallbacks\u001b[0m\u001b[1;33m.\u001b[0m\u001b[0mon_train_batch_begin\u001b[0m\u001b[1;33m(\u001b[0m\u001b[0mstep\u001b[0m\u001b[1;33m)\u001b[0m\u001b[1;33m\u001b[0m\u001b[1;33m\u001b[0m\u001b[0m\n\u001b[1;32m-> 1100\u001b[1;33m               \u001b[0mtmp_logs\u001b[0m \u001b[1;33m=\u001b[0m \u001b[0mself\u001b[0m\u001b[1;33m.\u001b[0m\u001b[0mtrain_function\u001b[0m\u001b[1;33m(\u001b[0m\u001b[0miterator\u001b[0m\u001b[1;33m)\u001b[0m\u001b[1;33m\u001b[0m\u001b[1;33m\u001b[0m\u001b[0m\n\u001b[0m\u001b[0;32m   1101\u001b[0m               \u001b[1;32mif\u001b[0m \u001b[0mdata_handler\u001b[0m\u001b[1;33m.\u001b[0m\u001b[0mshould_sync\u001b[0m\u001b[1;33m:\u001b[0m\u001b[1;33m\u001b[0m\u001b[1;33m\u001b[0m\u001b[0m\n\u001b[0;32m   1102\u001b[0m                 \u001b[0mcontext\u001b[0m\u001b[1;33m.\u001b[0m\u001b[0masync_wait\u001b[0m\u001b[1;33m(\u001b[0m\u001b[1;33m)\u001b[0m\u001b[1;33m\u001b[0m\u001b[1;33m\u001b[0m\u001b[0m\n",
      "\u001b[1;32m~\\anaconda3\\envs\\Python_course\\lib\\site-packages\\tensorflow\\python\\eager\\def_function.py\u001b[0m in \u001b[0;36m__call__\u001b[1;34m(self, *args, **kwds)\u001b[0m\n\u001b[0;32m    826\u001b[0m     \u001b[0mtracing_count\u001b[0m \u001b[1;33m=\u001b[0m \u001b[0mself\u001b[0m\u001b[1;33m.\u001b[0m\u001b[0mexperimental_get_tracing_count\u001b[0m\u001b[1;33m(\u001b[0m\u001b[1;33m)\u001b[0m\u001b[1;33m\u001b[0m\u001b[1;33m\u001b[0m\u001b[0m\n\u001b[0;32m    827\u001b[0m     \u001b[1;32mwith\u001b[0m \u001b[0mtrace\u001b[0m\u001b[1;33m.\u001b[0m\u001b[0mTrace\u001b[0m\u001b[1;33m(\u001b[0m\u001b[0mself\u001b[0m\u001b[1;33m.\u001b[0m\u001b[0m_name\u001b[0m\u001b[1;33m)\u001b[0m \u001b[1;32mas\u001b[0m \u001b[0mtm\u001b[0m\u001b[1;33m:\u001b[0m\u001b[1;33m\u001b[0m\u001b[1;33m\u001b[0m\u001b[0m\n\u001b[1;32m--> 828\u001b[1;33m       \u001b[0mresult\u001b[0m \u001b[1;33m=\u001b[0m \u001b[0mself\u001b[0m\u001b[1;33m.\u001b[0m\u001b[0m_call\u001b[0m\u001b[1;33m(\u001b[0m\u001b[1;33m*\u001b[0m\u001b[0margs\u001b[0m\u001b[1;33m,\u001b[0m \u001b[1;33m**\u001b[0m\u001b[0mkwds\u001b[0m\u001b[1;33m)\u001b[0m\u001b[1;33m\u001b[0m\u001b[1;33m\u001b[0m\u001b[0m\n\u001b[0m\u001b[0;32m    829\u001b[0m       \u001b[0mcompiler\u001b[0m \u001b[1;33m=\u001b[0m \u001b[1;34m\"xla\"\u001b[0m \u001b[1;32mif\u001b[0m \u001b[0mself\u001b[0m\u001b[1;33m.\u001b[0m\u001b[0m_experimental_compile\u001b[0m \u001b[1;32melse\u001b[0m \u001b[1;34m\"nonXla\"\u001b[0m\u001b[1;33m\u001b[0m\u001b[1;33m\u001b[0m\u001b[0m\n\u001b[0;32m    830\u001b[0m       \u001b[0mnew_tracing_count\u001b[0m \u001b[1;33m=\u001b[0m \u001b[0mself\u001b[0m\u001b[1;33m.\u001b[0m\u001b[0mexperimental_get_tracing_count\u001b[0m\u001b[1;33m(\u001b[0m\u001b[1;33m)\u001b[0m\u001b[1;33m\u001b[0m\u001b[1;33m\u001b[0m\u001b[0m\n",
      "\u001b[1;32m~\\anaconda3\\envs\\Python_course\\lib\\site-packages\\tensorflow\\python\\eager\\def_function.py\u001b[0m in \u001b[0;36m_call\u001b[1;34m(self, *args, **kwds)\u001b[0m\n\u001b[0;32m    853\u001b[0m       \u001b[1;31m# In this case we have created variables on the first call, so we run the\u001b[0m\u001b[1;33m\u001b[0m\u001b[1;33m\u001b[0m\u001b[1;33m\u001b[0m\u001b[0m\n\u001b[0;32m    854\u001b[0m       \u001b[1;31m# defunned version which is guaranteed to never create variables.\u001b[0m\u001b[1;33m\u001b[0m\u001b[1;33m\u001b[0m\u001b[1;33m\u001b[0m\u001b[0m\n\u001b[1;32m--> 855\u001b[1;33m       \u001b[1;32mreturn\u001b[0m \u001b[0mself\u001b[0m\u001b[1;33m.\u001b[0m\u001b[0m_stateless_fn\u001b[0m\u001b[1;33m(\u001b[0m\u001b[1;33m*\u001b[0m\u001b[0margs\u001b[0m\u001b[1;33m,\u001b[0m \u001b[1;33m**\u001b[0m\u001b[0mkwds\u001b[0m\u001b[1;33m)\u001b[0m  \u001b[1;31m# pylint: disable=not-callable\u001b[0m\u001b[1;33m\u001b[0m\u001b[1;33m\u001b[0m\u001b[0m\n\u001b[0m\u001b[0;32m    856\u001b[0m     \u001b[1;32melif\u001b[0m \u001b[0mself\u001b[0m\u001b[1;33m.\u001b[0m\u001b[0m_stateful_fn\u001b[0m \u001b[1;32mis\u001b[0m \u001b[1;32mnot\u001b[0m \u001b[1;32mNone\u001b[0m\u001b[1;33m:\u001b[0m\u001b[1;33m\u001b[0m\u001b[1;33m\u001b[0m\u001b[0m\n\u001b[0;32m    857\u001b[0m       \u001b[1;31m# Release the lock early so that multiple threads can perform the call\u001b[0m\u001b[1;33m\u001b[0m\u001b[1;33m\u001b[0m\u001b[1;33m\u001b[0m\u001b[0m\n",
      "\u001b[1;32m~\\anaconda3\\envs\\Python_course\\lib\\site-packages\\tensorflow\\python\\eager\\function.py\u001b[0m in \u001b[0;36m__call__\u001b[1;34m(self, *args, **kwargs)\u001b[0m\n\u001b[0;32m   2940\u001b[0m       (graph_function,\n\u001b[0;32m   2941\u001b[0m        filtered_flat_args) = self._maybe_define_function(args, kwargs)\n\u001b[1;32m-> 2942\u001b[1;33m     return graph_function._call_flat(\n\u001b[0m\u001b[0;32m   2943\u001b[0m         filtered_flat_args, captured_inputs=graph_function.captured_inputs)  # pylint: disable=protected-access\n\u001b[0;32m   2944\u001b[0m \u001b[1;33m\u001b[0m\u001b[0m\n",
      "\u001b[1;32m~\\anaconda3\\envs\\Python_course\\lib\\site-packages\\tensorflow\\python\\eager\\function.py\u001b[0m in \u001b[0;36m_call_flat\u001b[1;34m(self, args, captured_inputs, cancellation_manager)\u001b[0m\n\u001b[0;32m   1916\u001b[0m         and executing_eagerly):\n\u001b[0;32m   1917\u001b[0m       \u001b[1;31m# No tape is watching; skip to running the function.\u001b[0m\u001b[1;33m\u001b[0m\u001b[1;33m\u001b[0m\u001b[1;33m\u001b[0m\u001b[0m\n\u001b[1;32m-> 1918\u001b[1;33m       return self._build_call_outputs(self._inference_function.call(\n\u001b[0m\u001b[0;32m   1919\u001b[0m           ctx, args, cancellation_manager=cancellation_manager))\n\u001b[0;32m   1920\u001b[0m     forward_backward = self._select_forward_and_backward_functions(\n",
      "\u001b[1;32m~\\anaconda3\\envs\\Python_course\\lib\\site-packages\\tensorflow\\python\\eager\\function.py\u001b[0m in \u001b[0;36mcall\u001b[1;34m(self, ctx, args, cancellation_manager)\u001b[0m\n\u001b[0;32m    553\u001b[0m       \u001b[1;32mwith\u001b[0m \u001b[0m_InterpolateFunctionError\u001b[0m\u001b[1;33m(\u001b[0m\u001b[0mself\u001b[0m\u001b[1;33m)\u001b[0m\u001b[1;33m:\u001b[0m\u001b[1;33m\u001b[0m\u001b[1;33m\u001b[0m\u001b[0m\n\u001b[0;32m    554\u001b[0m         \u001b[1;32mif\u001b[0m \u001b[0mcancellation_manager\u001b[0m \u001b[1;32mis\u001b[0m \u001b[1;32mNone\u001b[0m\u001b[1;33m:\u001b[0m\u001b[1;33m\u001b[0m\u001b[1;33m\u001b[0m\u001b[0m\n\u001b[1;32m--> 555\u001b[1;33m           outputs = execute.execute(\n\u001b[0m\u001b[0;32m    556\u001b[0m               \u001b[0mstr\u001b[0m\u001b[1;33m(\u001b[0m\u001b[0mself\u001b[0m\u001b[1;33m.\u001b[0m\u001b[0msignature\u001b[0m\u001b[1;33m.\u001b[0m\u001b[0mname\u001b[0m\u001b[1;33m)\u001b[0m\u001b[1;33m,\u001b[0m\u001b[1;33m\u001b[0m\u001b[1;33m\u001b[0m\u001b[0m\n\u001b[0;32m    557\u001b[0m               \u001b[0mnum_outputs\u001b[0m\u001b[1;33m=\u001b[0m\u001b[0mself\u001b[0m\u001b[1;33m.\u001b[0m\u001b[0m_num_outputs\u001b[0m\u001b[1;33m,\u001b[0m\u001b[1;33m\u001b[0m\u001b[1;33m\u001b[0m\u001b[0m\n",
      "\u001b[1;32m~\\anaconda3\\envs\\Python_course\\lib\\site-packages\\tensorflow\\python\\eager\\execute.py\u001b[0m in \u001b[0;36mquick_execute\u001b[1;34m(op_name, num_outputs, inputs, attrs, ctx, name)\u001b[0m\n\u001b[0;32m     57\u001b[0m   \u001b[1;32mtry\u001b[0m\u001b[1;33m:\u001b[0m\u001b[1;33m\u001b[0m\u001b[1;33m\u001b[0m\u001b[0m\n\u001b[0;32m     58\u001b[0m     \u001b[0mctx\u001b[0m\u001b[1;33m.\u001b[0m\u001b[0mensure_initialized\u001b[0m\u001b[1;33m(\u001b[0m\u001b[1;33m)\u001b[0m\u001b[1;33m\u001b[0m\u001b[1;33m\u001b[0m\u001b[0m\n\u001b[1;32m---> 59\u001b[1;33m     tensors = pywrap_tfe.TFE_Py_Execute(ctx._handle, device_name, op_name,\n\u001b[0m\u001b[0;32m     60\u001b[0m                                         inputs, attrs, num_outputs)\n\u001b[0;32m     61\u001b[0m   \u001b[1;32mexcept\u001b[0m \u001b[0mcore\u001b[0m\u001b[1;33m.\u001b[0m\u001b[0m_NotOkStatusException\u001b[0m \u001b[1;32mas\u001b[0m \u001b[0me\u001b[0m\u001b[1;33m:\u001b[0m\u001b[1;33m\u001b[0m\u001b[1;33m\u001b[0m\u001b[0m\n",
      "\u001b[1;31mKeyboardInterrupt\u001b[0m: "
     ]
    }
   ],
   "source": [
    "r = model.fit(X_train, y_train,\n",
    "              validation_data=(X_test,y_test),\n",
    "              batch_size=10,\n",
    "              epochs=100)"
   ]
  },
  {
   "cell_type": "code",
   "execution_count": 24,
   "metadata": {},
   "outputs": [
    {
     "data": {
      "text/plain": [
       "<matplotlib.legend.Legend at 0x2656bade730>"
      ]
     },
     "execution_count": 24,
     "metadata": {},
     "output_type": "execute_result"
    },
    {
     "data": {
      "image/png": "[encoded data removed]",
      "text/plain": [
       "<Figure size 720x432 with 1 Axes>"
      ]
     },
     "metadata": {
      "needs_background": "light"
     },
     "output_type": "display_data"
    }
   ],
   "source": [
    "import matplotlib.pyplot as plt\n",
    "\n",
    "plt.figure(figsize=(10, 6))\n",
    "\n",
    "plt.plot(r.history['loss'], label='loss')\n",
    "plt.plot(r.history['val_loss'], label='val_loss')\n",
    "plt.legend()"
   ]
  },
  {
   "cell_type": "code",
   "execution_count": 25,
   "metadata": {},
   "outputs": [
    {
     "name": "stdout",
     "output_type": "stream",
     "text": [
      "Test set evaluation:\n",
      "_____________________________________\n",
      "MAE: 0.19686587358242164\n",
      "MSE: 0.07610024851386686\n",
      "RMSE: 0.2758627349133385\n",
      "R2 Square 0.4006467630580396\n",
      "====================================================================================================\n",
      "Train set evaluation:\n",
      "_____________________________________\n",
      "MAE: 0.11459352656400953\n",
      "MSE: 0.027030221449395597\n",
      "RMSE: 0.16440870247464273\n",
      "R2 Square 0.7860838597443969\n"
     ]
    }
   ],
   "source": [
    "from sklearn import metrics\n",
    "from sklearn.model_selection import cross_val_score\n",
    "\n",
    "def cross_val(model):\n",
    "    pred = cross_val_score(model, X, y, cv=10)\n",
    "    return pred.mean()\n",
    "\n",
    "def print_evaluate(true, predicted):  \n",
    "    mae = metrics.mean_absolute_error(true, predicted)\n",
    "    mse = metrics.mean_squared_error(true, predicted)\n",
    "    rmse = np.sqrt(metrics.mean_squared_error(true, predicted))\n",
    "    r2_square = metrics.r2_score(true, predicted)\n",
    "    print('MAE:', mae)\n",
    "    print('MSE:', mse)\n",
    "    print('RMSE:', rmse)\n",
    "    print('R2 Square', r2_square)\n",
    "    \n",
    "def evaluate(true, predicted):\n",
    "    mae = metrics.mean_absolute_error(true, predicted)\n",
    "    mse = metrics.mean_squared_error(true, predicted)\n",
    "    rmse = np.sqrt(metrics.mean_squared_error(true, predicted))\n",
    "    r2_square = metrics.r2_score(true, predicted)\n",
    "    return mae, mse, rmse, r2_square\n",
    "\n",
    "\n",
    "test_pred = model.predict(X_test)\n",
    "train_pred = model.predict(X_train)\n",
    "\n",
    "print('Test set evaluation:\\n_____________________________________')\n",
    "print_evaluate(y_test, test_pred)\n",
    "\n",
    "print('='*100)\n",
    "\n",
    "print('Train set evaluation:\\n_____________________________________')\n",
    "print_evaluate(y_train, train_pred)"
   ]
  },
  {
   "cell_type": "code",
   "execution_count": 16,
   "metadata": {},
   "outputs": [
    {
     "name": "stdout",
     "output_type": "stream",
     "text": [
      "Test set evaluation:\n",
      "_____________________________________\n",
      "MAE: 0.18142489226719152\n",
      "MSE: 0.06092811100447578\n",
      "RMSE: 0.24683620278329468\n",
      "R2 Square 0.511543127199973\n",
      "Train set evaluation:\n",
      "_____________________________________\n",
      "MAE: 0.17497315063299293\n",
      "MSE: 0.05715996551120045\n",
      "RMSE: 0.2390815039086053\n",
      "R2 Square 0.5510413124428906\n"
     ]
    }
   ],
   "source": [
    "# test_pred = model.predict(X_test)\n",
    "# train_pred = model.predict(X_train)\n",
    "\n",
    "# print('Test set evaluation:\\n_____________________________________')\n",
    "# print_evaluate(y_test, test_pred)\n",
    "\n",
    "# print('Train set evaluation:\\n_____________________________________')\n",
    "# print_evaluate(y_train, train_pred)"
   ]
  },
  {
   "cell_type": "code",
   "execution_count": 9,
   "metadata": {},
   "outputs": [
    {
     "name": "stdout",
     "output_type": "stream",
     "text": [
      "1348/1348 [==============================] - 40s 30ms/step - loss: 0.0170 0s - lo\n",
      "0.01697719283401966\n"
     ]
    }
   ],
   "source": [
    "result = model.evaluate(X_test, y_test)\n",
    "print(result)"
   ]
  },
  {
   "cell_type": "code",
   "execution_count": 10,
   "metadata": {},
   "outputs": [],
   "source": [
    "# #save model\n",
    "# model.save_weights('Sequential_1.h5')\n",
    "# model_json = model.to_json()\n",
    "# with open('Sequential_1.json', \"w\") as json_file:\n",
    "#     json_file.write(model_json)"
   ]
  },
  {
   "cell_type": "code",
   "execution_count": null,
   "metadata": {},
   "outputs": [],
   "source": [
    "# Load Model\n",
    "# from tensorflow.python.keras.models import Sequential\n",
    "# from tensorflow.python.keras.layers import Dense, Dropout, Activation, LSTM\n",
    "# import tensorflow as tf\n",
    "\n",
    "# json_file = open('Sequential.json', 'r')\n",
    "# loaded_model_json = json_file.read()\n",
    "# model = tf.keras.models.model_from_json(loaded_model_json)\n",
    "# model.load_weights('Sequential.h5')"
   ]
  },
  {
   "cell_type": "code",
   "execution_count": 44,
   "metadata": {},
   "outputs": [],
   "source": [
    "model.save('Sequential_313_1.h5')"
   ]
  },
  {
   "cell_type": "code",
   "execution_count": null,
   "metadata": {},
   "outputs": [],
   "source": [
    "# new_model = keras.models.load_model('dnn_mnist_model.h5')\n",
    "# new_model.summary()"
   ]
  }
 ],
 "metadata": {
  "kernelspec": {
   "display_name": "Python 3",
   "language": "python",
   "name": "python3"
  },
  "language_info": {
   "codemirror_mode": {
    "name": "ipython",
    "version": 3
   },
   "file_extension": ".py",
   "mimetype": "text/x-python",
   "name": "python",
   "nbconvert_exporter": "python",
   "pygments_lexer": "ipython3",
   "version": "3.8.5"
  }
 },
 "nbformat": 4,
 "nbformat_minor": 4
}
