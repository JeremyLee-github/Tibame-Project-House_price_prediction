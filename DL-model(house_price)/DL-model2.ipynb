{
 "cells": [
  {
   "cell_type": "code",
   "execution_count": 3,
   "metadata": {},
   "outputs": [
    {
     "name": "stdout",
     "output_type": "stream",
     "text": [
      "(100594, 5490)\n",
      "(100594,)\n"
     ]
    }
   ],
   "source": [
    "import pandas as pd\n",
    "import numpy as np\n",
    "import tensorflow as tf\n",
    "import matplotlib as plt\n",
    "from sklearn import preprocessing\n",
    "from sklearn.model_selection import train_test_split\n",
    "from tensorflow.keras.models import Sequential\n",
    "from tensorflow.keras.layers import Input, Dense, Activation, Dropout\n",
    "from tensorflow.keras.optimizers import Adam\n",
    "tf.compat.v1.reset_default_graph()\n",
    "\n",
    "df = pd.read_csv('house_data-20210228.csv')\n",
    "\n",
    "y = df['建物單價元/坪']\n",
    "X = df.drop(['建物單價元/坪'], axis=1)\n",
    "\n",
    "# X = preprocessing.MinMaxScaler().fit_transform(X)\n",
    "\n",
    "X_train, X_test, y_train, y_test = train_test_split(X, y, test_size=0.3)\n",
    "\n",
    "X_train = np.array(X_train)\n",
    "X_test = np.array(X_test)\n",
    "y_train = np.array(y_train)\n",
    "y_test = np.array(y_test)\n",
    "\n",
    "print(X_train.shape)\n",
    "print(y_train.shape)"
   ]
  },
  {
   "cell_type": "code",
   "execution_count": 4,
   "metadata": {},
   "outputs": [
    {
     "name": "stdout",
     "output_type": "stream",
     "text": [
      "Model: \"sequential\"\n",
      "_________________________________________________________________\n",
      "Layer (type)                 Output Shape              Param #   \n",
      "=================================================================\n",
      "dense (Dense)                (None, 32)                175712    \n",
      "_________________________________________________________________\n",
      "dense_1 (Dense)              (None, 64)                2112      \n",
      "_________________________________________________________________\n",
      "dense_2 (Dense)              (None, 128)               8320      \n",
      "_________________________________________________________________\n",
      "dropout (Dropout)            (None, 128)               0         \n",
      "_________________________________________________________________\n",
      "dense_3 (Dense)              (None, 256)               33024     \n",
      "_________________________________________________________________\n",
      "dense_4 (Dense)              (None, 1)                 257       \n",
      "=================================================================\n",
      "Total params: 219,425\n",
      "Trainable params: 219,425\n",
      "Non-trainable params: 0\n",
      "_________________________________________________________________\n"
     ]
    }
   ],
   "source": [
    "import tensorflow as tf\n",
    "from tensorflow.keras.models import Sequential\n",
    "from tensorflow.keras.layers import Input, Dense, Activation, Dropout\n",
    "tf.compat.v1.reset_default_graph()\n",
    "\n",
    "model = Sequential([\n",
    "    \n",
    "    layers.Dense(32, activation='relu', input_shape=(X_train.shape[1],)),\n",
    "#     layers.Dropout(0.2),\n",
    "    layers.Dense(64, activation='relu'),\n",
    "#     layers.Dropout(0.2),\n",
    "    layers.Dense(128, activation='relu'),\n",
    "    layers.Dropout(0.2),\n",
    "    layers.Dense(256, activation='relu'),\n",
    "\n",
    "    layers.Dense(1)\n",
    "])\n",
    "\n",
    "model.compile(optimizer=Adam(0.00001), loss='mse')\n",
    "\n",
    "model.summary()"
   ]
  },
  {
   "cell_type": "code",
   "execution_count": 9,
   "metadata": {
    "scrolled": true
   },
   "outputs": [
    {
     "name": "stdout",
     "output_type": "stream",
     "text": [
      "Epoch 1/100\n",
      "6707/6707 [==============================] - 26s 4ms/step - loss: 5.6604 - val_loss: 0.1070\n",
      "Epoch 2/100\n",
      "6707/6707 [==============================] - 21s 3ms/step - loss: 0.1521 - val_loss: 0.0748\n",
      "Epoch 3/100\n",
      "6707/6707 [==============================] - 21s 3ms/step - loss: 0.1161 - val_loss: 0.0614\n",
      "Epoch 4/100\n",
      "6707/6707 [==============================] - 22s 3ms/step - loss: 0.0963 - val_loss: 0.0537\n",
      "Epoch 5/100\n",
      "6707/6707 [==============================] - 20s 3ms/step - loss: 0.0851 - val_loss: 0.0534\n",
      "Epoch 6/100\n",
      "6707/6707 [==============================] - 22s 3ms/step - loss: 0.0767 - val_loss: 0.0463\n",
      "Epoch 7/100\n",
      "6707/6707 [==============================] - 23s 3ms/step - loss: 0.0708 - val_loss: 0.0491\n",
      "Epoch 8/100\n",
      "6707/6707 [==============================] - 25s 4ms/step - loss: 0.0665 - val_loss: 0.0451\n",
      "Epoch 9/100\n",
      "6707/6707 [==============================] - 24s 4ms/step - loss: 0.0616 - val_loss: 0.0463\n",
      "Epoch 10/100\n",
      "6707/6707 [==============================] - 20s 3ms/step - loss: 0.0571 - val_loss: 0.0485\n",
      "Epoch 11/100\n",
      "6707/6707 [==============================] - 25s 4ms/step - loss: 0.0542 - val_loss: 0.0511\n",
      "Epoch 12/100\n",
      "6707/6707 [==============================] - 19s 3ms/step - loss: 0.0501 - val_loss: 0.0414\n",
      "Epoch 13/100\n",
      "6707/6707 [==============================] - 21s 3ms/step - loss: 0.0465 - val_loss: 0.0409\n",
      "Epoch 14/100\n",
      "6707/6707 [==============================] - 20s 3ms/step - loss: 0.0421 - val_loss: 0.0392\n",
      "Epoch 15/100\n",
      "6707/6707 [==============================] - 20s 3ms/step - loss: 0.0362 - val_loss: 0.0368\n",
      "Epoch 16/100\n",
      "6707/6707 [==============================] - 20s 3ms/step - loss: 0.0322 - val_loss: 0.0313\n",
      "Epoch 17/100\n",
      "6707/6707 [==============================] - 22s 3ms/step - loss: 0.0273 - val_loss: 0.0316\n",
      "Epoch 18/100\n",
      "6707/6707 [==============================] - 22s 3ms/step - loss: 0.0242 - val_loss: 0.0278\n",
      "Epoch 19/100\n",
      "6707/6707 [==============================] - 22s 3ms/step - loss: 0.0216 - val_loss: 0.0242\n",
      "Epoch 20/100\n",
      "6707/6707 [==============================] - 21s 3ms/step - loss: 0.0192 - val_loss: 0.0227\n",
      "Epoch 21/100\n",
      "6707/6707 [==============================] - 18s 3ms/step - loss: 0.0178 - val_loss: 0.0255\n",
      "Epoch 22/100\n",
      "6707/6707 [==============================] - 16s 2ms/step - loss: 0.0160 - val_loss: 0.0188\n",
      "Epoch 23/100\n",
      "6707/6707 [==============================] - 16s 2ms/step - loss: 0.0148 - val_loss: 0.0190\n",
      "Epoch 24/100\n",
      "6707/6707 [==============================] - 16s 2ms/step - loss: 0.0143 - val_loss: 0.0177\n",
      "Epoch 25/100\n",
      "6707/6707 [==============================] - 16s 2ms/step - loss: 0.0138 - val_loss: 0.0169\n",
      "Epoch 26/100\n",
      "6707/6707 [==============================] - 16s 2ms/step - loss: 0.0126 - val_loss: 0.0171\n",
      "Epoch 27/100\n",
      "6707/6707 [==============================] - 16s 2ms/step - loss: 0.0117 - val_loss: 0.0158\n",
      "Epoch 28/100\n",
      "6707/6707 [==============================] - 16s 2ms/step - loss: 0.0114 - val_loss: 0.0153\n",
      "Epoch 29/100\n",
      "6707/6707 [==============================] - 16s 2ms/step - loss: 0.0109 - val_loss: 0.0145\n",
      "Epoch 30/100\n",
      "6707/6707 [==============================] - 17s 2ms/step - loss: 0.0107 - val_loss: 0.0142\n",
      "Epoch 31/100\n",
      "6707/6707 [==============================] - 17s 3ms/step - loss: 0.0102 - val_loss: 0.0143\n",
      "Epoch 32/100\n",
      "6707/6707 [==============================] - 17s 3ms/step - loss: 0.0096 - val_loss: 0.0131\n",
      "Epoch 33/100\n",
      "6707/6707 [==============================] - 18s 3ms/step - loss: 0.0093 - val_loss: 0.0132\n",
      "Epoch 34/100\n",
      "6707/6707 [==============================] - 17s 3ms/step - loss: 0.0094 - val_loss: 0.0136\n",
      "Epoch 35/100\n",
      "6707/6707 [==============================] - 17s 3ms/step - loss: 0.0092 - val_loss: 0.0134\n",
      "Epoch 36/100\n",
      "6707/6707 [==============================] - 17s 3ms/step - loss: 0.0090 - val_loss: 0.0116\n",
      "Epoch 37/100\n",
      "6707/6707 [==============================] - 17s 3ms/step - loss: 0.0089 - val_loss: 0.0132\n",
      "Epoch 38/100\n",
      "6707/6707 [==============================] - 17s 3ms/step - loss: 0.0081 - val_loss: 0.0116\n",
      "Epoch 39/100\n",
      "6707/6707 [==============================] - 18s 3ms/step - loss: 0.0082 - val_loss: 0.0124\n",
      "Epoch 40/100\n",
      "6707/6707 [==============================] - 17s 3ms/step - loss: 0.0081 - val_loss: 0.0108\n",
      "Epoch 41/100\n",
      "6707/6707 [==============================] - 17s 3ms/step - loss: 0.0077 - val_loss: 0.0111\n",
      "Epoch 42/100\n",
      "6707/6707 [==============================] - 17s 3ms/step - loss: 0.0073 - val_loss: 0.0106\n",
      "Epoch 43/100\n",
      "6707/6707 [==============================] - 17s 3ms/step - loss: 0.0075 - val_loss: 0.0117\n",
      "Epoch 44/100\n",
      "6707/6707 [==============================] - 17s 3ms/step - loss: 0.0071 - val_loss: 0.0110\n",
      "Epoch 45/100\n",
      "6707/6707 [==============================] - 19s 3ms/step - loss: 0.0073 - val_loss: 0.0110\n",
      "Epoch 46/100\n",
      "6707/6707 [==============================] - 18s 3ms/step - loss: 0.0070 - val_loss: 0.0111\n",
      "Epoch 47/100\n",
      "6707/6707 [==============================] - 17s 3ms/step - loss: 0.0070 - val_loss: 0.0112\n",
      "Epoch 48/100\n",
      "6707/6707 [==============================] - 18s 3ms/step - loss: 0.0065 - val_loss: 0.0116\n",
      "Epoch 49/100\n",
      "6707/6707 [==============================] - 18s 3ms/step - loss: 0.0068 - val_loss: 0.0115\n",
      "Epoch 50/100\n",
      "6707/6707 [==============================] - 18s 3ms/step - loss: 0.0065 - val_loss: 0.0115\n",
      "Epoch 51/100\n",
      "6707/6707 [==============================] - 17s 3ms/step - loss: 0.0063 - val_loss: 0.0112\n",
      "Epoch 52/100\n",
      "6707/6707 [==============================] - 18s 3ms/step - loss: 0.0062 - val_loss: 0.0126\n",
      "Epoch 53/100\n",
      "6707/6707 [==============================] - 18s 3ms/step - loss: 0.0065 - val_loss: 0.0115\n",
      "Epoch 54/100\n",
      "6707/6707 [==============================] - 17s 3ms/step - loss: 0.0062 - val_loss: 0.0124\n",
      "Epoch 55/100\n",
      "6707/6707 [==============================] - 17s 3ms/step - loss: 0.0060 - val_loss: 0.0124\n",
      "Epoch 56/100\n",
      "6707/6707 [==============================] - 17s 3ms/step - loss: 0.0060 - val_loss: 0.0110\n",
      "Epoch 57/100\n",
      "6707/6707 [==============================] - 17s 3ms/step - loss: 0.0059 - val_loss: 0.0116\n",
      "Epoch 58/100\n",
      "6707/6707 [==============================] - 18s 3ms/step - loss: 0.0057 - val_loss: 0.0130\n",
      "Epoch 59/100\n",
      "6707/6707 [==============================] - 18s 3ms/step - loss: 0.0057 - val_loss: 0.0120\n",
      "Epoch 60/100\n",
      "6707/6707 [==============================] - 17s 3ms/step - loss: 0.0053 - val_loss: 0.0116\n",
      "Epoch 61/100\n",
      "6707/6707 [==============================] - 17s 3ms/step - loss: 0.0053 - val_loss: 0.0113\n",
      "Epoch 62/100\n",
      "6707/6707 [==============================] - 17s 3ms/step - loss: 0.0056 - val_loss: 0.0109\n",
      "Epoch 63/100\n",
      "6707/6707 [==============================] - 16s 2ms/step - loss: 0.0050 - val_loss: 0.0122\n",
      "Epoch 64/100\n",
      "6707/6707 [==============================] - 16s 2ms/step - loss: 0.0050 - val_loss: 0.0122\n",
      "Epoch 65/100\n",
      "6707/6707 [==============================] - 16s 2ms/step - loss: 0.0050 - val_loss: 0.0116\n",
      "Epoch 66/100\n",
      "6707/6707 [==============================] - 16s 2ms/step - loss: 0.0051 - val_loss: 0.0129\n",
      "Epoch 67/100\n",
      "6707/6707 [==============================] - 17s 3ms/step - loss: 0.0050 - val_loss: 0.0098\n",
      "Epoch 68/100\n",
      "6707/6707 [==============================] - 17s 3ms/step - loss: 0.0051 - val_loss: 0.0097\n",
      "Epoch 69/100\n",
      "6707/6707 [==============================] - 17s 3ms/step - loss: 0.0047 - val_loss: 0.0111\n",
      "Epoch 70/100\n",
      "6707/6707 [==============================] - 18s 3ms/step - loss: 0.0046 - val_loss: 0.0119\n",
      "Epoch 71/100\n",
      "6707/6707 [==============================] - 18s 3ms/step - loss: 0.0046 - val_loss: 0.0107\n",
      "Epoch 72/100\n",
      "6707/6707 [==============================] - 18s 3ms/step - loss: 0.0046 - val_loss: 0.0131\n",
      "Epoch 73/100\n",
      "6707/6707 [==============================] - 18s 3ms/step - loss: 0.0045 - val_loss: 0.0114\n",
      "Epoch 74/100\n",
      "6707/6707 [==============================] - 18s 3ms/step - loss: 0.0045 - val_loss: 0.0126\n",
      "Epoch 75/100\n",
      "6707/6707 [==============================] - 18s 3ms/step - loss: 0.0044 - val_loss: 0.0122\n",
      "Epoch 76/100\n",
      "6707/6707 [==============================] - 18s 3ms/step - loss: 0.0044 - val_loss: 0.0130\n",
      "Epoch 77/100\n",
      "6707/6707 [==============================] - 18s 3ms/step - loss: 0.0043 - val_loss: 0.0115\n",
      "Epoch 78/100\n",
      "6707/6707 [==============================] - 18s 3ms/step - loss: 0.0043 - val_loss: 0.0127\n",
      "Epoch 79/100\n"
     ]
    },
    {
     "name": "stdout",
     "output_type": "stream",
     "text": [
      "6707/6707 [==============================] - 17s 3ms/step - loss: 0.0042 - val_loss: 0.0113\n",
      "Epoch 80/100\n",
      "6707/6707 [==============================] - 17s 3ms/step - loss: 0.0040 - val_loss: 0.0103\n",
      "Epoch 81/100\n",
      "6707/6707 [==============================] - 17s 3ms/step - loss: 0.0042 - val_loss: 0.0112\n",
      "Epoch 82/100\n",
      "6707/6707 [==============================] - 17s 3ms/step - loss: 0.0040 - val_loss: 0.0126\n",
      "Epoch 83/100\n",
      "6707/6707 [==============================] - 18s 3ms/step - loss: 0.0041 - val_loss: 0.0122\n",
      "Epoch 84/100\n",
      "6707/6707 [==============================] - 18s 3ms/step - loss: 0.0039 - val_loss: 0.0117\n",
      "Epoch 85/100\n",
      "6707/6707 [==============================] - 17s 3ms/step - loss: 0.0039 - val_loss: 0.0120\n",
      "Epoch 86/100\n",
      "6707/6707 [==============================] - 17s 3ms/step - loss: 0.0038 - val_loss: 0.0119\n",
      "Epoch 87/100\n",
      "6707/6707 [==============================] - 17s 3ms/step - loss: 0.0038 - val_loss: 0.0125\n",
      "Epoch 88/100\n",
      "6707/6707 [==============================] - 17s 3ms/step - loss: 0.0037 - val_loss: 0.0122\n",
      "Epoch 89/100\n",
      "6707/6707 [==============================] - 17s 3ms/step - loss: 0.0038 - val_loss: 0.0141\n",
      "Epoch 90/100\n",
      "6707/6707 [==============================] - 17s 3ms/step - loss: 0.0038 - val_loss: 0.0120\n",
      "Epoch 91/100\n",
      "6707/6707 [==============================] - 17s 3ms/step - loss: 0.0035 - val_loss: 0.0133\n",
      "Epoch 92/100\n",
      "6707/6707 [==============================] - 17s 3ms/step - loss: 0.0037 - val_loss: 0.0128\n",
      "Epoch 93/100\n",
      "6707/6707 [==============================] - 17s 3ms/step - loss: 0.0037 - val_loss: 0.0142\n",
      "Epoch 94/100\n",
      "6707/6707 [==============================] - 17s 3ms/step - loss: 0.0036 - val_loss: 0.0131\n",
      "Epoch 95/100\n",
      "6707/6707 [==============================] - 18s 3ms/step - loss: 0.0034 - val_loss: 0.0141\n",
      "Epoch 96/100\n",
      "6707/6707 [==============================] - 17s 3ms/step - loss: 0.0035 - val_loss: 0.0126\n",
      "Epoch 97/100\n",
      "6707/6707 [==============================] - 17s 3ms/step - loss: 0.0035 - val_loss: 0.0133\n",
      "Epoch 98/100\n",
      "6707/6707 [==============================] - 17s 3ms/step - loss: 0.0034 - val_loss: 0.0148\n",
      "Epoch 99/100\n",
      "6707/6707 [==============================] - 17s 3ms/step - loss: 0.0032 - val_loss: 0.0129\n",
      "Epoch 100/100\n",
      "6707/6707 [==============================] - 17s 3ms/step - loss: 0.0034 - val_loss: 0.0156\n"
     ]
    }
   ],
   "source": [
    "r = model.fit(X_train, y_train,\n",
    "              validation_data=(X_test,y_test),\n",
    "              batch_size=15,\n",
    "              epochs=100)"
   ]
  },
  {
   "cell_type": "code",
   "execution_count": 10,
   "metadata": {},
   "outputs": [
    {
     "data": {
      "text/plain": [
       "<matplotlib.legend.Legend at 0x17b679b18e0>"
      ]
     },
     "execution_count": 10,
     "metadata": {},
     "output_type": "execute_result"
    },
    {
     "data": {
      "image/png": "[encoded data removed]",
      "text/plain": [
       "<Figure size 720x432 with 1 Axes>"
      ]
     },
     "metadata": {
      "needs_background": "light"
     },
     "output_type": "display_data"
    }
   ],
   "source": [
    "import matplotlib.pyplot as plt\n",
    "plt.figure(figsize=(10, 6))\n",
    "\n",
    "plt.plot(r.history['loss'], label='loss')\n",
    "plt.plot(r.history['val_loss'], label='val_loss')\n",
    "plt.legend()"
   ]
  },
  {
   "cell_type": "code",
   "execution_count": 11,
   "metadata": {},
   "outputs": [],
   "source": [
    "from sklearn import metrics\n",
    "\n",
    "def print_evaluate(true, predicted):  \n",
    "    mae = metrics.mean_absolute_error(true, predicted)\n",
    "    mse = metrics.mean_squared_error(true, predicted)\n",
    "    rmse = np.sqrt(metrics.mean_squared_error(true, predicted))\n",
    "    r2_square = metrics.r2_score(true, predicted)\n",
    "    print('MAE:', mae)\n",
    "    print('MSE:', mse)\n",
    "    print('RMSE:', rmse)\n",
    "    print('R2 Square', r2_square)"
   ]
  },
  {
   "cell_type": "code",
   "execution_count": 12,
   "metadata": {},
   "outputs": [
    {
     "name": "stdout",
     "output_type": "stream",
     "text": [
      "Test set evaluation:\n",
      "_____________________________________\n",
      "MAE: 0.09577289709889086\n",
      "MSE: 0.015552013810494756\n",
      "RMSE: 0.12470771351642511\n",
      "R2 Square 0.9098878470222496\n",
      "====================================================================================================\n",
      "Train set evaluation:\n",
      "_____________________________________\n",
      "MAE: 0.08972698147765074\n",
      "MSE: 0.01233808997966826\n",
      "RMSE: 0.11107695521424892\n",
      "R2 Square 0.9301621464039302\n"
     ]
    }
   ],
   "source": [
    "test_pred = model.predict(X_test)\n",
    "train_pred = model.predict(X_train)\n",
    "\n",
    "print('Test set evaluation:\\n_____________________________________')\n",
    "print_evaluate(y_test, test_pred)\n",
    "print('='*100)\n",
    "print('Train set evaluation:\\n_____________________________________')\n",
    "print_evaluate(y_train, train_pred)"
   ]
  },
  {
   "cell_type": "code",
   "execution_count": 12,
   "metadata": {},
   "outputs": [
    {
     "name": "stdout",
     "output_type": "stream",
     "text": [
      "680/680 [==============================] - 0s 685us/step - loss: 0.0620\n",
      "0.06195215508341789\n"
     ]
    }
   ],
   "source": [
    "result = model.evaluate(X_test, y_test)\n",
    "print(result)"
   ]
  },
  {
   "cell_type": "code",
   "execution_count": 17,
   "metadata": {},
   "outputs": [],
   "source": [
    "model.save('price_model.h5')"
   ]
  },
  {
   "cell_type": "code",
   "execution_count": 18,
   "metadata": {},
   "outputs": [],
   "source": [
    "# new_model = keras.models.load_model('dnn_mnist_model.h5')\n",
    "# new_model.summary()"
   ]
  }
 ],
 "metadata": {
  "kernelspec": {
   "display_name": "Python 3",
   "language": "python",
   "name": "python3"
  },
  "language_info": {
   "codemirror_mode": {
    "name": "ipython",
    "version": 3
   },
   "file_extension": ".py",
   "mimetype": "text/x-python",
   "name": "python",
   "nbconvert_exporter": "python",
   "pygments_lexer": "ipython3",
   "version": "3.8.5"
  }
 },
 "nbformat": 4,
 "nbformat_minor": 4
}
